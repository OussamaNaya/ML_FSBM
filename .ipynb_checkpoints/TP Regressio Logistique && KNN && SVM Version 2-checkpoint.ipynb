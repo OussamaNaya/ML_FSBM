{
 "cells": [
  {
   "cell_type": "code",
   "execution_count": 1,
   "id": "77091ce0",
   "metadata": {},
   "outputs": [],
   "source": [
    "import numpy as np\n",
    "import pandas as pd\n",
    "import matplotlib.pyplot as plt\n",
    "import seaborn as sns\n"
   ]
  },
  {
   "cell_type": "code",
   "execution_count": 2,
   "id": "1d733744",
   "metadata": {},
   "outputs": [],
   "source": [
    "df = pd.read_csv('C:\\\\Users\\\\lenovo\\\\Documents\\\\S2\\\\Machin Learning\\\\RL && KNN && KVM\\\\Heart_health.csv')"
   ]
  },
  {
   "cell_type": "code",
   "execution_count": 4,
   "id": "1635a002",
   "metadata": {},
   "outputs": [],
   "source": [
    "data = df.copy()"
   ]
  },
  {
   "cell_type": "code",
   "execution_count": 5,
   "id": "4d15bf81",
   "metadata": {},
   "outputs": [
    {
     "data": {
      "text/plain": [
       "(724, 12)"
      ]
     },
     "execution_count": 5,
     "metadata": {},
     "output_type": "execute_result"
    }
   ],
   "source": [
    "data.shape"
   ]
  },
  {
   "cell_type": "code",
   "execution_count": 6,
   "id": "2e0be1c3",
   "metadata": {},
   "outputs": [
    {
     "data": {
      "text/html": [
       "<div>\n",
       "<style scoped>\n",
       "    .dataframe tbody tr th:only-of-type {\n",
       "        vertical-align: middle;\n",
       "    }\n",
       "\n",
       "    .dataframe tbody tr th {\n",
       "        vertical-align: top;\n",
       "    }\n",
       "\n",
       "    .dataframe thead th {\n",
       "        text-align: right;\n",
       "    }\n",
       "</style>\n",
       "<table border=\"1\" class=\"dataframe\">\n",
       "  <thead>\n",
       "    <tr style=\"text-align: right;\">\n",
       "      <th></th>\n",
       "      <th>ID</th>\n",
       "      <th>Name</th>\n",
       "      <th>Age</th>\n",
       "      <th>Gender</th>\n",
       "      <th>Height(cm)</th>\n",
       "      <th>Weight(kg)</th>\n",
       "      <th>Blood Pressure(mmHg)</th>\n",
       "      <th>Cholesterol(mg/dL)</th>\n",
       "      <th>Glucose(mg/dL)</th>\n",
       "      <th>Smoker</th>\n",
       "      <th>Exercise(hours/week)</th>\n",
       "      <th>Heart Attack</th>\n",
       "    </tr>\n",
       "  </thead>\n",
       "  <tbody>\n",
       "    <tr>\n",
       "      <th>0</th>\n",
       "      <td>1</td>\n",
       "      <td>John Doe</td>\n",
       "      <td>45</td>\n",
       "      <td>Male</td>\n",
       "      <td>175</td>\n",
       "      <td>80</td>\n",
       "      <td>120/80</td>\n",
       "      <td>200</td>\n",
       "      <td>90</td>\n",
       "      <td>No</td>\n",
       "      <td>3</td>\n",
       "      <td>0</td>\n",
       "    </tr>\n",
       "    <tr>\n",
       "      <th>1</th>\n",
       "      <td>2</td>\n",
       "      <td>Jane Smith</td>\n",
       "      <td>35</td>\n",
       "      <td>Female</td>\n",
       "      <td>160</td>\n",
       "      <td>65</td>\n",
       "      <td>110/70</td>\n",
       "      <td>180</td>\n",
       "      <td>80</td>\n",
       "      <td>No</td>\n",
       "      <td>2</td>\n",
       "      <td>0</td>\n",
       "    </tr>\n",
       "    <tr>\n",
       "      <th>2</th>\n",
       "      <td>3</td>\n",
       "      <td>Michael Johnson</td>\n",
       "      <td>55</td>\n",
       "      <td>Male</td>\n",
       "      <td>180</td>\n",
       "      <td>85</td>\n",
       "      <td>130/85</td>\n",
       "      <td>220</td>\n",
       "      <td>95</td>\n",
       "      <td>Yes</td>\n",
       "      <td>4</td>\n",
       "      <td>1</td>\n",
       "    </tr>\n",
       "    <tr>\n",
       "      <th>3</th>\n",
       "      <td>4</td>\n",
       "      <td>Sarah Brown</td>\n",
       "      <td>40</td>\n",
       "      <td>Female</td>\n",
       "      <td>165</td>\n",
       "      <td>70</td>\n",
       "      <td>115/75</td>\n",
       "      <td>190</td>\n",
       "      <td>85</td>\n",
       "      <td>No</td>\n",
       "      <td>3</td>\n",
       "      <td>0</td>\n",
       "    </tr>\n",
       "    <tr>\n",
       "      <th>4</th>\n",
       "      <td>5</td>\n",
       "      <td>David Lee</td>\n",
       "      <td>50</td>\n",
       "      <td>Male</td>\n",
       "      <td>170</td>\n",
       "      <td>75</td>\n",
       "      <td>125/80</td>\n",
       "      <td>210</td>\n",
       "      <td>92</td>\n",
       "      <td>Yes</td>\n",
       "      <td>2</td>\n",
       "      <td>1</td>\n",
       "    </tr>\n",
       "  </tbody>\n",
       "</table>\n",
       "</div>"
      ],
      "text/plain": [
       "   ID             Name  Age  Gender  Height(cm)  Weight(kg)  \\\n",
       "0   1         John Doe   45    Male         175          80   \n",
       "1   2       Jane Smith   35  Female         160          65   \n",
       "2   3  Michael Johnson   55    Male         180          85   \n",
       "3   4      Sarah Brown   40  Female         165          70   \n",
       "4   5        David Lee   50    Male         170          75   \n",
       "\n",
       "  Blood Pressure(mmHg)  Cholesterol(mg/dL)  Glucose(mg/dL) Smoker  \\\n",
       "0               120/80                 200              90     No   \n",
       "1               110/70                 180              80     No   \n",
       "2               130/85                 220              95    Yes   \n",
       "3               115/75                 190              85     No   \n",
       "4               125/80                 210              92    Yes   \n",
       "\n",
       "   Exercise(hours/week)  Heart Attack  \n",
       "0                     3             0  \n",
       "1                     2             0  \n",
       "2                     4             1  \n",
       "3                     3             0  \n",
       "4                     2             1  "
      ]
     },
     "execution_count": 6,
     "metadata": {},
     "output_type": "execute_result"
    }
   ],
   "source": [
    "data.head()"
   ]
  },
  {
   "cell_type": "markdown",
   "id": "63ae7436",
   "metadata": {},
   "source": [
    "# Valeur null"
   ]
  },
  {
   "cell_type": "code",
   "execution_count": 7,
   "id": "6f01475c",
   "metadata": {
    "scrolled": true
   },
   "outputs": [
    {
     "data": {
      "text/plain": [
       "ID                      0\n",
       "Name                    0\n",
       "Age                     0\n",
       "Gender                  0\n",
       "Height(cm)              0\n",
       "Weight(kg)              0\n",
       "Blood Pressure(mmHg)    0\n",
       "Cholesterol(mg/dL)      0\n",
       "Glucose(mg/dL)          0\n",
       "Smoker                  0\n",
       "Exercise(hours/week)    0\n",
       "Heart Attack            0\n",
       "dtype: int64"
      ]
     },
     "execution_count": 7,
     "metadata": {},
     "output_type": "execute_result"
    }
   ],
   "source": [
    "data.isna().sum()"
   ]
  },
  {
   "cell_type": "markdown",
   "id": "ac4d9b1c",
   "metadata": {},
   "source": [
    "# Data Clean"
   ]
  },
  {
   "cell_type": "code",
   "execution_count": 8,
   "id": "31374a65",
   "metadata": {},
   "outputs": [],
   "source": [
    "data_clean=data.drop(['ID','Name'],axis=1)"
   ]
  },
  {
   "cell_type": "code",
   "execution_count": 9,
   "id": "040ca0b5",
   "metadata": {},
   "outputs": [
    {
     "data": {
      "text/plain": [
       "Index(['Age', 'Gender', 'Height(cm)', 'Weight(kg)', 'Blood Pressure(mmHg)',\n",
       "       'Cholesterol(mg/dL)', 'Glucose(mg/dL)', 'Smoker',\n",
       "       'Exercise(hours/week)', 'Heart Attack'],\n",
       "      dtype='object')"
      ]
     },
     "execution_count": 9,
     "metadata": {},
     "output_type": "execute_result"
    }
   ],
   "source": [
    "data_clean.columns\n"
   ]
  },
  {
   "cell_type": "code",
   "execution_count": 10,
   "id": "a308c015",
   "metadata": {},
   "outputs": [
    {
     "data": {
      "text/html": [
       "<div>\n",
       "<style scoped>\n",
       "    .dataframe tbody tr th:only-of-type {\n",
       "        vertical-align: middle;\n",
       "    }\n",
       "\n",
       "    .dataframe tbody tr th {\n",
       "        vertical-align: top;\n",
       "    }\n",
       "\n",
       "    .dataframe thead th {\n",
       "        text-align: right;\n",
       "    }\n",
       "</style>\n",
       "<table border=\"1\" class=\"dataframe\">\n",
       "  <thead>\n",
       "    <tr style=\"text-align: right;\">\n",
       "      <th></th>\n",
       "      <th>Age</th>\n",
       "      <th>Gender</th>\n",
       "      <th>Height(cm)</th>\n",
       "      <th>Weight(kg)</th>\n",
       "      <th>Blood Pressure(mmHg)</th>\n",
       "      <th>Cholesterol(mg/dL)</th>\n",
       "      <th>Glucose(mg/dL)</th>\n",
       "      <th>Smoker</th>\n",
       "      <th>Exercise(hours/week)</th>\n",
       "      <th>Heart Attack</th>\n",
       "    </tr>\n",
       "  </thead>\n",
       "  <tbody>\n",
       "    <tr>\n",
       "      <th>0</th>\n",
       "      <td>45</td>\n",
       "      <td>Male</td>\n",
       "      <td>175</td>\n",
       "      <td>80</td>\n",
       "      <td>120/80</td>\n",
       "      <td>200</td>\n",
       "      <td>90</td>\n",
       "      <td>No</td>\n",
       "      <td>3</td>\n",
       "      <td>0</td>\n",
       "    </tr>\n",
       "    <tr>\n",
       "      <th>1</th>\n",
       "      <td>35</td>\n",
       "      <td>Female</td>\n",
       "      <td>160</td>\n",
       "      <td>65</td>\n",
       "      <td>110/70</td>\n",
       "      <td>180</td>\n",
       "      <td>80</td>\n",
       "      <td>No</td>\n",
       "      <td>2</td>\n",
       "      <td>0</td>\n",
       "    </tr>\n",
       "    <tr>\n",
       "      <th>2</th>\n",
       "      <td>55</td>\n",
       "      <td>Male</td>\n",
       "      <td>180</td>\n",
       "      <td>85</td>\n",
       "      <td>130/85</td>\n",
       "      <td>220</td>\n",
       "      <td>95</td>\n",
       "      <td>Yes</td>\n",
       "      <td>4</td>\n",
       "      <td>1</td>\n",
       "    </tr>\n",
       "    <tr>\n",
       "      <th>3</th>\n",
       "      <td>40</td>\n",
       "      <td>Female</td>\n",
       "      <td>165</td>\n",
       "      <td>70</td>\n",
       "      <td>115/75</td>\n",
       "      <td>190</td>\n",
       "      <td>85</td>\n",
       "      <td>No</td>\n",
       "      <td>3</td>\n",
       "      <td>0</td>\n",
       "    </tr>\n",
       "    <tr>\n",
       "      <th>4</th>\n",
       "      <td>50</td>\n",
       "      <td>Male</td>\n",
       "      <td>170</td>\n",
       "      <td>75</td>\n",
       "      <td>125/80</td>\n",
       "      <td>210</td>\n",
       "      <td>92</td>\n",
       "      <td>Yes</td>\n",
       "      <td>2</td>\n",
       "      <td>1</td>\n",
       "    </tr>\n",
       "  </tbody>\n",
       "</table>\n",
       "</div>"
      ],
      "text/plain": [
       "   Age  Gender  Height(cm)  Weight(kg) Blood Pressure(mmHg)  \\\n",
       "0   45    Male         175          80               120/80   \n",
       "1   35  Female         160          65               110/70   \n",
       "2   55    Male         180          85               130/85   \n",
       "3   40  Female         165          70               115/75   \n",
       "4   50    Male         170          75               125/80   \n",
       "\n",
       "   Cholesterol(mg/dL)  Glucose(mg/dL) Smoker  Exercise(hours/week)  \\\n",
       "0                 200              90     No                     3   \n",
       "1                 180              80     No                     2   \n",
       "2                 220              95    Yes                     4   \n",
       "3                 190              85     No                     3   \n",
       "4                 210              92    Yes                     2   \n",
       "\n",
       "   Heart Attack  \n",
       "0             0  \n",
       "1             0  \n",
       "2             1  \n",
       "3             0  \n",
       "4             1  "
      ]
     },
     "execution_count": 10,
     "metadata": {},
     "output_type": "execute_result"
    }
   ],
   "source": [
    "data_clean.head()"
   ]
  },
  {
   "cell_type": "markdown",
   "id": "80d4aa31",
   "metadata": {},
   "source": [
    "# Transormalisation"
   ]
  },
  {
   "cell_type": "code",
   "execution_count": 59,
   "id": "60f9e513",
   "metadata": {},
   "outputs": [],
   "source": [
    "data_trans = data_clean.copy()"
   ]
  },
  {
   "cell_type": "code",
   "execution_count": 60,
   "id": "77580997",
   "metadata": {},
   "outputs": [
    {
     "name": "stdout",
     "output_type": "stream",
     "text": [
      "valeur unique de Gender est :  ['Male' 'Female']\n",
      "valeur unique de Smoker est :  ['No' 'Yes']\n"
     ]
    }
   ],
   "source": [
    "print(\"valeur unique de Gender est : \",data_trans['Gender'].unique())\n",
    "print(\"valeur unique de Smoker est : \",data_trans['Smoker'].unique())"
   ]
  },
  {
   "cell_type": "code",
   "execution_count": 61,
   "id": "c20367c7",
   "metadata": {},
   "outputs": [],
   "source": [
    "from sklearn.preprocessing import LabelEncoder\n",
    "\n",
    "lb = LabelEncoder()\n",
    "catg=['Gender','Smoker']\n",
    "\n",
    "for cat in catg:\n",
    "    data_trans[cat] = lb.fit_transform(data_trans[cat])"
   ]
  },
  {
   "cell_type": "code",
   "execution_count": 28,
   "id": "a19988e1",
   "metadata": {},
   "outputs": [
    {
     "name": "stdout",
     "output_type": "stream",
     "text": [
      "valeur unique de Gender est :  [1 0]\n",
      "valeur unique de Smoker est :  [0 1]\n"
     ]
    }
   ],
   "source": [
    "print(\"valeur unique de Gender est : \",data_trans['Gender'].unique())\n",
    "print(\"valeur unique de Smoker est : \",data_trans['Smoker'].unique())"
   ]
  },
  {
   "cell_type": "code",
   "execution_count": 62,
   "id": "f0cb40a7",
   "metadata": {
    "scrolled": true
   },
   "outputs": [
    {
     "data": {
      "text/html": [
       "<div>\n",
       "<style scoped>\n",
       "    .dataframe tbody tr th:only-of-type {\n",
       "        vertical-align: middle;\n",
       "    }\n",
       "\n",
       "    .dataframe tbody tr th {\n",
       "        vertical-align: top;\n",
       "    }\n",
       "\n",
       "    .dataframe thead th {\n",
       "        text-align: right;\n",
       "    }\n",
       "</style>\n",
       "<table border=\"1\" class=\"dataframe\">\n",
       "  <thead>\n",
       "    <tr style=\"text-align: right;\">\n",
       "      <th></th>\n",
       "      <th>Age</th>\n",
       "      <th>Gender</th>\n",
       "      <th>Height(cm)</th>\n",
       "      <th>Weight(kg)</th>\n",
       "      <th>Blood Pressure(mmHg)</th>\n",
       "      <th>Cholesterol(mg/dL)</th>\n",
       "      <th>Glucose(mg/dL)</th>\n",
       "      <th>Smoker</th>\n",
       "      <th>Exercise(hours/week)</th>\n",
       "      <th>Heart Attack</th>\n",
       "    </tr>\n",
       "  </thead>\n",
       "  <tbody>\n",
       "    <tr>\n",
       "      <th>0</th>\n",
       "      <td>45</td>\n",
       "      <td>1</td>\n",
       "      <td>175</td>\n",
       "      <td>80</td>\n",
       "      <td>120/80</td>\n",
       "      <td>200</td>\n",
       "      <td>90</td>\n",
       "      <td>0</td>\n",
       "      <td>3</td>\n",
       "      <td>0</td>\n",
       "    </tr>\n",
       "    <tr>\n",
       "      <th>1</th>\n",
       "      <td>35</td>\n",
       "      <td>0</td>\n",
       "      <td>160</td>\n",
       "      <td>65</td>\n",
       "      <td>110/70</td>\n",
       "      <td>180</td>\n",
       "      <td>80</td>\n",
       "      <td>0</td>\n",
       "      <td>2</td>\n",
       "      <td>0</td>\n",
       "    </tr>\n",
       "    <tr>\n",
       "      <th>2</th>\n",
       "      <td>55</td>\n",
       "      <td>1</td>\n",
       "      <td>180</td>\n",
       "      <td>85</td>\n",
       "      <td>130/85</td>\n",
       "      <td>220</td>\n",
       "      <td>95</td>\n",
       "      <td>1</td>\n",
       "      <td>4</td>\n",
       "      <td>1</td>\n",
       "    </tr>\n",
       "    <tr>\n",
       "      <th>3</th>\n",
       "      <td>40</td>\n",
       "      <td>0</td>\n",
       "      <td>165</td>\n",
       "      <td>70</td>\n",
       "      <td>115/75</td>\n",
       "      <td>190</td>\n",
       "      <td>85</td>\n",
       "      <td>0</td>\n",
       "      <td>3</td>\n",
       "      <td>0</td>\n",
       "    </tr>\n",
       "    <tr>\n",
       "      <th>4</th>\n",
       "      <td>50</td>\n",
       "      <td>1</td>\n",
       "      <td>170</td>\n",
       "      <td>75</td>\n",
       "      <td>125/80</td>\n",
       "      <td>210</td>\n",
       "      <td>92</td>\n",
       "      <td>1</td>\n",
       "      <td>2</td>\n",
       "      <td>1</td>\n",
       "    </tr>\n",
       "  </tbody>\n",
       "</table>\n",
       "</div>"
      ],
      "text/plain": [
       "   Age  Gender  Height(cm)  Weight(kg) Blood Pressure(mmHg)  \\\n",
       "0   45       1         175          80               120/80   \n",
       "1   35       0         160          65               110/70   \n",
       "2   55       1         180          85               130/85   \n",
       "3   40       0         165          70               115/75   \n",
       "4   50       1         170          75               125/80   \n",
       "\n",
       "   Cholesterol(mg/dL)  Glucose(mg/dL)  Smoker  Exercise(hours/week)  \\\n",
       "0                 200              90       0                     3   \n",
       "1                 180              80       0                     2   \n",
       "2                 220              95       1                     4   \n",
       "3                 190              85       0                     3   \n",
       "4                 210              92       1                     2   \n",
       "\n",
       "   Heart Attack  \n",
       "0             0  \n",
       "1             0  \n",
       "2             1  \n",
       "3             0  \n",
       "4             1  "
      ]
     },
     "execution_count": 62,
     "metadata": {},
     "output_type": "execute_result"
    }
   ],
   "source": [
    "data_trans.head()"
   ]
  },
  {
   "cell_type": "code",
   "execution_count": 63,
   "id": "4c3ec7bf",
   "metadata": {},
   "outputs": [],
   "source": [
    "#Poids idéal d’un homme (en Kg) = Taille (en cm) – 100 – ((Taille (en cm) – 150) /4 ).\n",
    "#Poids idéal d’une femme (en Kg) = Taille (en cm) – 100 – ((Taille (en cm) – 150) /2,5 ).\n",
    "#data_test.loc['Ideal', data_test['Gender']==1] = data_test['Height(cm)']-100-((data_test['Height(cm)']-150)/4)\n",
    "#data_test.loc['Ideal', data_test['Gender']==0] = data_test['Height(cm)']-100-((data_test['Height(cm)']-150)/2.5)\n",
    "\n",
    "data_trans['IMC'] = data_trans['Weight(kg)']/((data_trans['Height(cm)']/100)*(data_trans['Height(cm)']/100))"
   ]
  },
  {
   "cell_type": "code",
   "execution_count": 64,
   "id": "48b320ea",
   "metadata": {},
   "outputs": [
    {
     "data": {
      "text/html": [
       "<div>\n",
       "<style scoped>\n",
       "    .dataframe tbody tr th:only-of-type {\n",
       "        vertical-align: middle;\n",
       "    }\n",
       "\n",
       "    .dataframe tbody tr th {\n",
       "        vertical-align: top;\n",
       "    }\n",
       "\n",
       "    .dataframe thead th {\n",
       "        text-align: right;\n",
       "    }\n",
       "</style>\n",
       "<table border=\"1\" class=\"dataframe\">\n",
       "  <thead>\n",
       "    <tr style=\"text-align: right;\">\n",
       "      <th></th>\n",
       "      <th>Age</th>\n",
       "      <th>Gender</th>\n",
       "      <th>Height(cm)</th>\n",
       "      <th>Weight(kg)</th>\n",
       "      <th>Blood Pressure(mmHg)</th>\n",
       "      <th>Cholesterol(mg/dL)</th>\n",
       "      <th>Glucose(mg/dL)</th>\n",
       "      <th>Smoker</th>\n",
       "      <th>Exercise(hours/week)</th>\n",
       "      <th>Heart Attack</th>\n",
       "      <th>IMC</th>\n",
       "    </tr>\n",
       "  </thead>\n",
       "  <tbody>\n",
       "    <tr>\n",
       "      <th>0</th>\n",
       "      <td>45</td>\n",
       "      <td>1</td>\n",
       "      <td>175</td>\n",
       "      <td>80</td>\n",
       "      <td>120/80</td>\n",
       "      <td>200</td>\n",
       "      <td>90</td>\n",
       "      <td>0</td>\n",
       "      <td>3</td>\n",
       "      <td>0</td>\n",
       "      <td>26.122449</td>\n",
       "    </tr>\n",
       "    <tr>\n",
       "      <th>1</th>\n",
       "      <td>35</td>\n",
       "      <td>0</td>\n",
       "      <td>160</td>\n",
       "      <td>65</td>\n",
       "      <td>110/70</td>\n",
       "      <td>180</td>\n",
       "      <td>80</td>\n",
       "      <td>0</td>\n",
       "      <td>2</td>\n",
       "      <td>0</td>\n",
       "      <td>25.390625</td>\n",
       "    </tr>\n",
       "    <tr>\n",
       "      <th>2</th>\n",
       "      <td>55</td>\n",
       "      <td>1</td>\n",
       "      <td>180</td>\n",
       "      <td>85</td>\n",
       "      <td>130/85</td>\n",
       "      <td>220</td>\n",
       "      <td>95</td>\n",
       "      <td>1</td>\n",
       "      <td>4</td>\n",
       "      <td>1</td>\n",
       "      <td>26.234568</td>\n",
       "    </tr>\n",
       "    <tr>\n",
       "      <th>3</th>\n",
       "      <td>40</td>\n",
       "      <td>0</td>\n",
       "      <td>165</td>\n",
       "      <td>70</td>\n",
       "      <td>115/75</td>\n",
       "      <td>190</td>\n",
       "      <td>85</td>\n",
       "      <td>0</td>\n",
       "      <td>3</td>\n",
       "      <td>0</td>\n",
       "      <td>25.711662</td>\n",
       "    </tr>\n",
       "    <tr>\n",
       "      <th>4</th>\n",
       "      <td>50</td>\n",
       "      <td>1</td>\n",
       "      <td>170</td>\n",
       "      <td>75</td>\n",
       "      <td>125/80</td>\n",
       "      <td>210</td>\n",
       "      <td>92</td>\n",
       "      <td>1</td>\n",
       "      <td>2</td>\n",
       "      <td>1</td>\n",
       "      <td>25.951557</td>\n",
       "    </tr>\n",
       "  </tbody>\n",
       "</table>\n",
       "</div>"
      ],
      "text/plain": [
       "   Age  Gender  Height(cm)  Weight(kg) Blood Pressure(mmHg)  \\\n",
       "0   45       1         175          80               120/80   \n",
       "1   35       0         160          65               110/70   \n",
       "2   55       1         180          85               130/85   \n",
       "3   40       0         165          70               115/75   \n",
       "4   50       1         170          75               125/80   \n",
       "\n",
       "   Cholesterol(mg/dL)  Glucose(mg/dL)  Smoker  Exercise(hours/week)  \\\n",
       "0                 200              90       0                     3   \n",
       "1                 180              80       0                     2   \n",
       "2                 220              95       1                     4   \n",
       "3                 190              85       0                     3   \n",
       "4                 210              92       1                     2   \n",
       "\n",
       "   Heart Attack        IMC  \n",
       "0             0  26.122449  \n",
       "1             0  25.390625  \n",
       "2             1  26.234568  \n",
       "3             0  25.711662  \n",
       "4             1  25.951557  "
      ]
     },
     "execution_count": 64,
     "metadata": {},
     "output_type": "execute_result"
    }
   ],
   "source": [
    "data_trans.head()"
   ]
  },
  {
   "cell_type": "code",
   "execution_count": null,
   "id": "d2d363aa",
   "metadata": {},
   "outputs": [],
   "source": [
    "\"\"\"\n",
    "Une fois votre IMC calculé, on peut interpréter son résultat parmi ces repères établis par l’Organisation Mondiale de la Santé (OMS) :\n",
    "\n",
    "Inférieur à 16 > Anorexie ou dénutrition                  => 0\n",
    "Entre 16.5 et 18.5 > Insuffisance pondérale ou maigreur   => 1\n",
    "Entre 18.5 et 25 > Corpulence normale                     => 2\n",
    "Entre 25 et 30 > Surpoids                                 => 3\n",
    "Entre 30 et 35 > Obésité modérée                          => 4\n",
    "Entre 35 et 40 > Obésité élevée                           => 5\n",
    "Supérieur à 40 > Obésité morbide ou massive               => 6\n",
    "\"\"\""
   ]
  },
  {
   "cell_type": "code",
   "execution_count": 65,
   "id": "ce615ad7",
   "metadata": {},
   "outputs": [],
   "source": [
    "data_trans.loc[data_trans['IMC'] < 16, 'IMC'] = 0\n",
    "data_trans.loc[(data_trans['IMC'] >= 16) & (data_trans['IMC'] < 18.5), 'IMC'] = 1\n",
    "data_trans.loc[(data_trans['IMC'] >= 18.5) & (data_trans['IMC'] < 25), 'IMC'] = 2\n",
    "data_trans.loc[(data_trans['IMC'] >= 25) & (data_trans['IMC'] < 30), 'IMC'] = 1\n",
    "data_trans.loc[(data_trans['IMC'] >= 30) & (data_trans['IMC'] < 35), 'IMC'] = 1\n",
    "data_trans.loc[data_trans['IMC'] < 40, 'IMC'] = 1\n",
    "\n",
    "data_trans['IMC'] = data_trans['IMC'].astype(int)"
   ]
  },
  {
   "cell_type": "code",
   "execution_count": 66,
   "id": "74b53632",
   "metadata": {},
   "outputs": [],
   "source": [
    "data_trans = data_trans.drop(['Height(cm)', 'Weight(kg)'] ,axis=1)"
   ]
  },
  {
   "cell_type": "code",
   "execution_count": 67,
   "id": "81d92194",
   "metadata": {},
   "outputs": [
    {
     "data": {
      "text/html": [
       "<div>\n",
       "<style scoped>\n",
       "    .dataframe tbody tr th:only-of-type {\n",
       "        vertical-align: middle;\n",
       "    }\n",
       "\n",
       "    .dataframe tbody tr th {\n",
       "        vertical-align: top;\n",
       "    }\n",
       "\n",
       "    .dataframe thead th {\n",
       "        text-align: right;\n",
       "    }\n",
       "</style>\n",
       "<table border=\"1\" class=\"dataframe\">\n",
       "  <thead>\n",
       "    <tr style=\"text-align: right;\">\n",
       "      <th></th>\n",
       "      <th>Age</th>\n",
       "      <th>Gender</th>\n",
       "      <th>Blood Pressure(mmHg)</th>\n",
       "      <th>Cholesterol(mg/dL)</th>\n",
       "      <th>Glucose(mg/dL)</th>\n",
       "      <th>Smoker</th>\n",
       "      <th>Exercise(hours/week)</th>\n",
       "      <th>Heart Attack</th>\n",
       "      <th>IMC</th>\n",
       "    </tr>\n",
       "  </thead>\n",
       "  <tbody>\n",
       "    <tr>\n",
       "      <th>0</th>\n",
       "      <td>45</td>\n",
       "      <td>1</td>\n",
       "      <td>120/80</td>\n",
       "      <td>200</td>\n",
       "      <td>90</td>\n",
       "      <td>0</td>\n",
       "      <td>3</td>\n",
       "      <td>0</td>\n",
       "      <td>1</td>\n",
       "    </tr>\n",
       "    <tr>\n",
       "      <th>1</th>\n",
       "      <td>35</td>\n",
       "      <td>0</td>\n",
       "      <td>110/70</td>\n",
       "      <td>180</td>\n",
       "      <td>80</td>\n",
       "      <td>0</td>\n",
       "      <td>2</td>\n",
       "      <td>0</td>\n",
       "      <td>1</td>\n",
       "    </tr>\n",
       "    <tr>\n",
       "      <th>2</th>\n",
       "      <td>55</td>\n",
       "      <td>1</td>\n",
       "      <td>130/85</td>\n",
       "      <td>220</td>\n",
       "      <td>95</td>\n",
       "      <td>1</td>\n",
       "      <td>4</td>\n",
       "      <td>1</td>\n",
       "      <td>1</td>\n",
       "    </tr>\n",
       "    <tr>\n",
       "      <th>3</th>\n",
       "      <td>40</td>\n",
       "      <td>0</td>\n",
       "      <td>115/75</td>\n",
       "      <td>190</td>\n",
       "      <td>85</td>\n",
       "      <td>0</td>\n",
       "      <td>3</td>\n",
       "      <td>0</td>\n",
       "      <td>1</td>\n",
       "    </tr>\n",
       "    <tr>\n",
       "      <th>4</th>\n",
       "      <td>50</td>\n",
       "      <td>1</td>\n",
       "      <td>125/80</td>\n",
       "      <td>210</td>\n",
       "      <td>92</td>\n",
       "      <td>1</td>\n",
       "      <td>2</td>\n",
       "      <td>1</td>\n",
       "      <td>1</td>\n",
       "    </tr>\n",
       "  </tbody>\n",
       "</table>\n",
       "</div>"
      ],
      "text/plain": [
       "   Age  Gender Blood Pressure(mmHg)  Cholesterol(mg/dL)  Glucose(mg/dL)  \\\n",
       "0   45       1               120/80                 200              90   \n",
       "1   35       0               110/70                 180              80   \n",
       "2   55       1               130/85                 220              95   \n",
       "3   40       0               115/75                 190              85   \n",
       "4   50       1               125/80                 210              92   \n",
       "\n",
       "   Smoker  Exercise(hours/week)  Heart Attack  IMC  \n",
       "0       0                     3             0    1  \n",
       "1       0                     2             0    1  \n",
       "2       1                     4             1    1  \n",
       "3       0                     3             0    1  \n",
       "4       1                     2             1    1  "
      ]
     },
     "execution_count": 67,
     "metadata": {},
     "output_type": "execute_result"
    }
   ],
   "source": [
    "data_trans.head()"
   ]
  },
  {
   "cell_type": "code",
   "execution_count": 35,
   "id": "bf85c715",
   "metadata": {},
   "outputs": [
    {
     "data": {
      "text/plain": [
       "array([1])"
      ]
     },
     "execution_count": 35,
     "metadata": {},
     "output_type": "execute_result"
    }
   ],
   "source": [
    "data_trans['IMC'].unique()"
   ]
  },
  {
   "cell_type": "code",
   "execution_count": 44,
   "id": "b6b6d3c4",
   "metadata": {},
   "outputs": [
    {
     "name": "stdout",
     "output_type": "stream",
     "text": [
      "Correlation entre Smoker et Exercise(hours/week) est : \n",
      "                         Smoker  Exercise(hours/week)\n",
      "Smoker                1.000000              0.179879\n",
      "Exercise(hours/week)  0.179879              1.000000\n",
      "\n",
      "\n",
      "\n",
      "Correlation entre Smoker et Heart Attack est : \n",
      "                 Smoker  Heart Attack\n",
      "Smoker        1.000000      0.030422\n",
      "Heart Attack  0.030422      1.000000\n"
     ]
    }
   ],
   "source": [
    "print(\"Correlation entre Smoker et Exercise(hours/week) est : \\n\",data_trans[['Smoker','Exercise(hours/week)']].corr())\n",
    "print(\"\\n\\n\\nCorrelation entre Smoker et Heart Attack est : \\n\",data_trans[['Smoker','Heart Attack']].corr())"
   ]
  },
  {
   "cell_type": "code",
   "execution_count": 28,
   "id": "85b2d5f8",
   "metadata": {},
   "outputs": [
    {
     "data": {
      "text/plain": [
       "<bound method Series.unique of 0      120/80\n",
       "1      110/70\n",
       "2      130/85\n",
       "3      115/75\n",
       "4      125/80\n",
       "        ...  \n",
       "719    118/76\n",
       "720    123/80\n",
       "721    120/78\n",
       "722    125/78\n",
       "723    121/77\n",
       "Name: Blood Pressure(mmHg), Length: 724, dtype: object>"
      ]
     },
     "execution_count": 28,
     "metadata": {},
     "output_type": "execute_result"
    }
   ],
   "source": [
    "data_trans['Blood Pressure(mmHg)'].unique"
   ]
  },
  {
   "cell_type": "code",
   "execution_count": 68,
   "id": "11a5244b",
   "metadata": {},
   "outputs": [],
   "source": [
    "data_trans[['Systolic Pressure', 'Diastolic Pressure']] = data_trans['Blood Pressure(mmHg)'].str.split('/', expand=True)\n",
    "\n",
    "# Convertir les valeurs des colonnes en type numérique\n",
    "data_trans['Systolic Pressure'] = pd.to_numeric(data_trans['Systolic Pressure'])\n",
    "data_trans['Diastolic Pressure'] = pd.to_numeric(data_trans['Diastolic Pressure'])"
   ]
  },
  {
   "cell_type": "code",
   "execution_count": 69,
   "id": "78fc8946",
   "metadata": {},
   "outputs": [
    {
     "data": {
      "text/html": [
       "<div>\n",
       "<style scoped>\n",
       "    .dataframe tbody tr th:only-of-type {\n",
       "        vertical-align: middle;\n",
       "    }\n",
       "\n",
       "    .dataframe tbody tr th {\n",
       "        vertical-align: top;\n",
       "    }\n",
       "\n",
       "    .dataframe thead th {\n",
       "        text-align: right;\n",
       "    }\n",
       "</style>\n",
       "<table border=\"1\" class=\"dataframe\">\n",
       "  <thead>\n",
       "    <tr style=\"text-align: right;\">\n",
       "      <th></th>\n",
       "      <th>Age</th>\n",
       "      <th>Gender</th>\n",
       "      <th>Blood Pressure(mmHg)</th>\n",
       "      <th>Cholesterol(mg/dL)</th>\n",
       "      <th>Glucose(mg/dL)</th>\n",
       "      <th>Smoker</th>\n",
       "      <th>Exercise(hours/week)</th>\n",
       "      <th>Heart Attack</th>\n",
       "      <th>IMC</th>\n",
       "      <th>Systolic Pressure</th>\n",
       "      <th>Diastolic Pressure</th>\n",
       "    </tr>\n",
       "  </thead>\n",
       "  <tbody>\n",
       "    <tr>\n",
       "      <th>0</th>\n",
       "      <td>45</td>\n",
       "      <td>1</td>\n",
       "      <td>120/80</td>\n",
       "      <td>200</td>\n",
       "      <td>90</td>\n",
       "      <td>0</td>\n",
       "      <td>3</td>\n",
       "      <td>0</td>\n",
       "      <td>1</td>\n",
       "      <td>120</td>\n",
       "      <td>80</td>\n",
       "    </tr>\n",
       "    <tr>\n",
       "      <th>1</th>\n",
       "      <td>35</td>\n",
       "      <td>0</td>\n",
       "      <td>110/70</td>\n",
       "      <td>180</td>\n",
       "      <td>80</td>\n",
       "      <td>0</td>\n",
       "      <td>2</td>\n",
       "      <td>0</td>\n",
       "      <td>1</td>\n",
       "      <td>110</td>\n",
       "      <td>70</td>\n",
       "    </tr>\n",
       "    <tr>\n",
       "      <th>2</th>\n",
       "      <td>55</td>\n",
       "      <td>1</td>\n",
       "      <td>130/85</td>\n",
       "      <td>220</td>\n",
       "      <td>95</td>\n",
       "      <td>1</td>\n",
       "      <td>4</td>\n",
       "      <td>1</td>\n",
       "      <td>1</td>\n",
       "      <td>130</td>\n",
       "      <td>85</td>\n",
       "    </tr>\n",
       "    <tr>\n",
       "      <th>3</th>\n",
       "      <td>40</td>\n",
       "      <td>0</td>\n",
       "      <td>115/75</td>\n",
       "      <td>190</td>\n",
       "      <td>85</td>\n",
       "      <td>0</td>\n",
       "      <td>3</td>\n",
       "      <td>0</td>\n",
       "      <td>1</td>\n",
       "      <td>115</td>\n",
       "      <td>75</td>\n",
       "    </tr>\n",
       "    <tr>\n",
       "      <th>4</th>\n",
       "      <td>50</td>\n",
       "      <td>1</td>\n",
       "      <td>125/80</td>\n",
       "      <td>210</td>\n",
       "      <td>92</td>\n",
       "      <td>1</td>\n",
       "      <td>2</td>\n",
       "      <td>1</td>\n",
       "      <td>1</td>\n",
       "      <td>125</td>\n",
       "      <td>80</td>\n",
       "    </tr>\n",
       "  </tbody>\n",
       "</table>\n",
       "</div>"
      ],
      "text/plain": [
       "   Age  Gender Blood Pressure(mmHg)  Cholesterol(mg/dL)  Glucose(mg/dL)  \\\n",
       "0   45       1               120/80                 200              90   \n",
       "1   35       0               110/70                 180              80   \n",
       "2   55       1               130/85                 220              95   \n",
       "3   40       0               115/75                 190              85   \n",
       "4   50       1               125/80                 210              92   \n",
       "\n",
       "   Smoker  Exercise(hours/week)  Heart Attack  IMC  Systolic Pressure  \\\n",
       "0       0                     3             0    1                120   \n",
       "1       0                     2             0    1                110   \n",
       "2       1                     4             1    1                130   \n",
       "3       0                     3             0    1                115   \n",
       "4       1                     2             1    1                125   \n",
       "\n",
       "   Diastolic Pressure  \n",
       "0                  80  \n",
       "1                  70  \n",
       "2                  85  \n",
       "3                  75  \n",
       "4                  80  "
      ]
     },
     "execution_count": 69,
     "metadata": {},
     "output_type": "execute_result"
    }
   ],
   "source": [
    "data_trans.head()"
   ]
  },
  {
   "cell_type": "code",
   "execution_count": 47,
   "id": "569960ce",
   "metadata": {},
   "outputs": [
    {
     "name": "stdout",
     "output_type": "stream",
     "text": [
      "Correlation entre (Systolic Pressure) et (Diastolic Pressure) est : \n",
      "                     Systolic Pressure  Diastolic Pressure\n",
      "Systolic Pressure             1.00000             0.89638\n",
      "Diastolic Pressure            0.89638             1.00000\n"
     ]
    }
   ],
   "source": [
    "print(\"Correlation entre (Systolic Pressure) et (Diastolic Pressure) est : \\n\",data_trans[['Systolic Pressure','Diastolic Pressure']].corr())"
   ]
  },
  {
   "cell_type": "code",
   "execution_count": 70,
   "id": "8bc3a123",
   "metadata": {},
   "outputs": [
    {
     "name": "stdout",
     "output_type": "stream",
     "text": [
      "  Blood Pressure(mmHg) Blood Pressure Classification\n",
      "0               120/80       Hypertension de stade 1\n",
      "1               110/70                       Normale\n",
      "2               130/85       Hypertension de stade 2\n",
      "3               115/75                       Normale\n",
      "4               125/80       Hypertension de stade 1\n"
     ]
    }
   ],
   "source": [
    "import pandas as pd\n",
    "\n",
    "\n",
    "# Fonction pour classer la pression artérielle en fonction des critères de santé\n",
    "def classify_blood_pressure(bp):\n",
    "    systolic, diastolic = map(int, bp.split('/'))\n",
    "    if systolic < 90 or diastolic < 60:\n",
    "        return 'Hypotension'\n",
    "    elif 90 <= systolic < 120 and 60 <= diastolic < 80:\n",
    "        return 'Normale'\n",
    "    elif 120 <= systolic < 130 and 80 <= diastolic < 85:\n",
    "        return 'Hypertension de stade 1'\n",
    "    elif 130 <= systolic < 140 or 85 <= diastolic < 90:\n",
    "        return 'Hypertension de stade 2'\n",
    "    else:\n",
    "        return 'Hypertension de stade 3'\n",
    "\n",
    "# Appliquer la fonction à la colonne 'Blood Pressure(mmHg)' et créer une nouvelle colonne 'Blood Pressure Classification'\n",
    "data_trans['Blood Pressure Classification'] = data_trans['Blood Pressure(mmHg)'].apply(classify_blood_pressure)\n",
    "\n",
    "# Afficher les premières lignes du DataFrame avec la nouvelle classification\n",
    "print(data_trans[['Blood Pressure(mmHg)', 'Blood Pressure Classification']].head())\n"
   ]
  },
  {
   "cell_type": "code",
   "execution_count": 71,
   "id": "76a53b79",
   "metadata": {},
   "outputs": [
    {
     "data": {
      "text/html": [
       "<div>\n",
       "<style scoped>\n",
       "    .dataframe tbody tr th:only-of-type {\n",
       "        vertical-align: middle;\n",
       "    }\n",
       "\n",
       "    .dataframe tbody tr th {\n",
       "        vertical-align: top;\n",
       "    }\n",
       "\n",
       "    .dataframe thead th {\n",
       "        text-align: right;\n",
       "    }\n",
       "</style>\n",
       "<table border=\"1\" class=\"dataframe\">\n",
       "  <thead>\n",
       "    <tr style=\"text-align: right;\">\n",
       "      <th></th>\n",
       "      <th>Age</th>\n",
       "      <th>Gender</th>\n",
       "      <th>Blood Pressure(mmHg)</th>\n",
       "      <th>Cholesterol(mg/dL)</th>\n",
       "      <th>Glucose(mg/dL)</th>\n",
       "      <th>Smoker</th>\n",
       "      <th>Exercise(hours/week)</th>\n",
       "      <th>Heart Attack</th>\n",
       "      <th>IMC</th>\n",
       "      <th>Systolic Pressure</th>\n",
       "      <th>Diastolic Pressure</th>\n",
       "      <th>Blood Pressure Classification</th>\n",
       "    </tr>\n",
       "  </thead>\n",
       "  <tbody>\n",
       "    <tr>\n",
       "      <th>0</th>\n",
       "      <td>45</td>\n",
       "      <td>1</td>\n",
       "      <td>120/80</td>\n",
       "      <td>200</td>\n",
       "      <td>90</td>\n",
       "      <td>0</td>\n",
       "      <td>3</td>\n",
       "      <td>0</td>\n",
       "      <td>1</td>\n",
       "      <td>120</td>\n",
       "      <td>80</td>\n",
       "      <td>Hypertension de stade 1</td>\n",
       "    </tr>\n",
       "    <tr>\n",
       "      <th>1</th>\n",
       "      <td>35</td>\n",
       "      <td>0</td>\n",
       "      <td>110/70</td>\n",
       "      <td>180</td>\n",
       "      <td>80</td>\n",
       "      <td>0</td>\n",
       "      <td>2</td>\n",
       "      <td>0</td>\n",
       "      <td>1</td>\n",
       "      <td>110</td>\n",
       "      <td>70</td>\n",
       "      <td>Normale</td>\n",
       "    </tr>\n",
       "    <tr>\n",
       "      <th>2</th>\n",
       "      <td>55</td>\n",
       "      <td>1</td>\n",
       "      <td>130/85</td>\n",
       "      <td>220</td>\n",
       "      <td>95</td>\n",
       "      <td>1</td>\n",
       "      <td>4</td>\n",
       "      <td>1</td>\n",
       "      <td>1</td>\n",
       "      <td>130</td>\n",
       "      <td>85</td>\n",
       "      <td>Hypertension de stade 2</td>\n",
       "    </tr>\n",
       "    <tr>\n",
       "      <th>3</th>\n",
       "      <td>40</td>\n",
       "      <td>0</td>\n",
       "      <td>115/75</td>\n",
       "      <td>190</td>\n",
       "      <td>85</td>\n",
       "      <td>0</td>\n",
       "      <td>3</td>\n",
       "      <td>0</td>\n",
       "      <td>1</td>\n",
       "      <td>115</td>\n",
       "      <td>75</td>\n",
       "      <td>Normale</td>\n",
       "    </tr>\n",
       "    <tr>\n",
       "      <th>4</th>\n",
       "      <td>50</td>\n",
       "      <td>1</td>\n",
       "      <td>125/80</td>\n",
       "      <td>210</td>\n",
       "      <td>92</td>\n",
       "      <td>1</td>\n",
       "      <td>2</td>\n",
       "      <td>1</td>\n",
       "      <td>1</td>\n",
       "      <td>125</td>\n",
       "      <td>80</td>\n",
       "      <td>Hypertension de stade 1</td>\n",
       "    </tr>\n",
       "  </tbody>\n",
       "</table>\n",
       "</div>"
      ],
      "text/plain": [
       "   Age  Gender Blood Pressure(mmHg)  Cholesterol(mg/dL)  Glucose(mg/dL)  \\\n",
       "0   45       1               120/80                 200              90   \n",
       "1   35       0               110/70                 180              80   \n",
       "2   55       1               130/85                 220              95   \n",
       "3   40       0               115/75                 190              85   \n",
       "4   50       1               125/80                 210              92   \n",
       "\n",
       "   Smoker  Exercise(hours/week)  Heart Attack  IMC  Systolic Pressure  \\\n",
       "0       0                     3             0    1                120   \n",
       "1       0                     2             0    1                110   \n",
       "2       1                     4             1    1                130   \n",
       "3       0                     3             0    1                115   \n",
       "4       1                     2             1    1                125   \n",
       "\n",
       "   Diastolic Pressure Blood Pressure Classification  \n",
       "0                  80       Hypertension de stade 1  \n",
       "1                  70                       Normale  \n",
       "2                  85       Hypertension de stade 2  \n",
       "3                  75                       Normale  \n",
       "4                  80       Hypertension de stade 1  "
      ]
     },
     "execution_count": 71,
     "metadata": {},
     "output_type": "execute_result"
    }
   ],
   "source": [
    "data_trans.head()"
   ]
  },
  {
   "cell_type": "code",
   "execution_count": 72,
   "id": "6de772bb",
   "metadata": {},
   "outputs": [],
   "source": [
    "data_trans.loc[data_trans['Blood Pressure Classification'] == 'Hypotension', 'Blood Pressure Classification'] = 0\n",
    "data_trans.loc[data_trans['Blood Pressure Classification'] == 'Normale', 'Blood Pressure Classification'] = 1\n",
    "data_trans.loc[data_trans['Blood Pressure Classification'] == 'Hypertension de stade 1', 'Blood Pressure Classification'] = 2\n",
    "data_trans.loc[data_trans['Blood Pressure Classification'] == 'Hypertension de stade 2', 'Blood Pressure Classification'] = 3\n",
    "data_trans.loc[data_trans['Blood Pressure Classification'] == 'Hypertension de stade 3', 'Blood Pressure Classification'] = 0"
   ]
  },
  {
   "cell_type": "code",
   "execution_count": 73,
   "id": "a221ff27",
   "metadata": {},
   "outputs": [
    {
     "data": {
      "text/plain": [
       "array([2, 1, 3, 0], dtype=object)"
      ]
     },
     "execution_count": 73,
     "metadata": {},
     "output_type": "execute_result"
    }
   ],
   "source": [
    "data_trans['Blood Pressure Classification'].unique()"
   ]
  },
  {
   "cell_type": "code",
   "execution_count": 76,
   "id": "6d39fdb8",
   "metadata": {},
   "outputs": [],
   "source": [
    "data_trans = data_trans.drop(columns=['Blood Pressure(mmHg)', 'Systolic Pressure', 'Diastolic Pressure'], axis=1)"
   ]
  },
  {
   "cell_type": "code",
   "execution_count": 77,
   "id": "4bb614a2",
   "metadata": {},
   "outputs": [
    {
     "data": {
      "text/html": [
       "<div>\n",
       "<style scoped>\n",
       "    .dataframe tbody tr th:only-of-type {\n",
       "        vertical-align: middle;\n",
       "    }\n",
       "\n",
       "    .dataframe tbody tr th {\n",
       "        vertical-align: top;\n",
       "    }\n",
       "\n",
       "    .dataframe thead th {\n",
       "        text-align: right;\n",
       "    }\n",
       "</style>\n",
       "<table border=\"1\" class=\"dataframe\">\n",
       "  <thead>\n",
       "    <tr style=\"text-align: right;\">\n",
       "      <th></th>\n",
       "      <th>Age</th>\n",
       "      <th>Gender</th>\n",
       "      <th>Cholesterol(mg/dL)</th>\n",
       "      <th>Glucose(mg/dL)</th>\n",
       "      <th>Smoker</th>\n",
       "      <th>Exercise(hours/week)</th>\n",
       "      <th>Heart Attack</th>\n",
       "      <th>IMC</th>\n",
       "      <th>Blood Pressure Classification</th>\n",
       "    </tr>\n",
       "  </thead>\n",
       "  <tbody>\n",
       "    <tr>\n",
       "      <th>0</th>\n",
       "      <td>45</td>\n",
       "      <td>1</td>\n",
       "      <td>200</td>\n",
       "      <td>90</td>\n",
       "      <td>0</td>\n",
       "      <td>3</td>\n",
       "      <td>0</td>\n",
       "      <td>1</td>\n",
       "      <td>2</td>\n",
       "    </tr>\n",
       "    <tr>\n",
       "      <th>1</th>\n",
       "      <td>35</td>\n",
       "      <td>0</td>\n",
       "      <td>180</td>\n",
       "      <td>80</td>\n",
       "      <td>0</td>\n",
       "      <td>2</td>\n",
       "      <td>0</td>\n",
       "      <td>1</td>\n",
       "      <td>1</td>\n",
       "    </tr>\n",
       "    <tr>\n",
       "      <th>2</th>\n",
       "      <td>55</td>\n",
       "      <td>1</td>\n",
       "      <td>220</td>\n",
       "      <td>95</td>\n",
       "      <td>1</td>\n",
       "      <td>4</td>\n",
       "      <td>1</td>\n",
       "      <td>1</td>\n",
       "      <td>3</td>\n",
       "    </tr>\n",
       "    <tr>\n",
       "      <th>3</th>\n",
       "      <td>40</td>\n",
       "      <td>0</td>\n",
       "      <td>190</td>\n",
       "      <td>85</td>\n",
       "      <td>0</td>\n",
       "      <td>3</td>\n",
       "      <td>0</td>\n",
       "      <td>1</td>\n",
       "      <td>1</td>\n",
       "    </tr>\n",
       "    <tr>\n",
       "      <th>4</th>\n",
       "      <td>50</td>\n",
       "      <td>1</td>\n",
       "      <td>210</td>\n",
       "      <td>92</td>\n",
       "      <td>1</td>\n",
       "      <td>2</td>\n",
       "      <td>1</td>\n",
       "      <td>1</td>\n",
       "      <td>2</td>\n",
       "    </tr>\n",
       "  </tbody>\n",
       "</table>\n",
       "</div>"
      ],
      "text/plain": [
       "   Age  Gender  Cholesterol(mg/dL)  Glucose(mg/dL)  Smoker  \\\n",
       "0   45       1                 200              90       0   \n",
       "1   35       0                 180              80       0   \n",
       "2   55       1                 220              95       1   \n",
       "3   40       0                 190              85       0   \n",
       "4   50       1                 210              92       1   \n",
       "\n",
       "   Exercise(hours/week)  Heart Attack  IMC Blood Pressure Classification  \n",
       "0                     3             0    1                             2  \n",
       "1                     2             0    1                             1  \n",
       "2                     4             1    1                             3  \n",
       "3                     3             0    1                             1  \n",
       "4                     2             1    1                             2  "
      ]
     },
     "execution_count": 77,
     "metadata": {},
     "output_type": "execute_result"
    }
   ],
   "source": [
    "data_trans.head()"
   ]
  },
  {
   "cell_type": "markdown",
   "id": "aeffc54a",
   "metadata": {},
   "source": [
    "# Plot"
   ]
  },
  {
   "cell_type": "code",
   "execution_count": 78,
   "id": "9846cdd6",
   "metadata": {},
   "outputs": [],
   "source": [
    "data_plot = data_trans.copy()"
   ]
  },
  {
   "cell_type": "code",
   "execution_count": 79,
   "id": "76071852",
   "metadata": {},
   "outputs": [
    {
     "data": {
      "text/plain": [
       "Index(['Age', 'Gender', 'Cholesterol(mg/dL)', 'Glucose(mg/dL)', 'Smoker',\n",
       "       'Exercise(hours/week)', 'Heart Attack', 'IMC',\n",
       "       'Blood Pressure Classification'],\n",
       "      dtype='object')"
      ]
     },
     "execution_count": 79,
     "metadata": {},
     "output_type": "execute_result"
    }
   ],
   "source": [
    "data_plot.columns"
   ]
  },
  {
   "cell_type": "code",
   "execution_count": 80,
   "id": "39e6455e",
   "metadata": {},
   "outputs": [],
   "source": [
    "from sklearn.model_selection import train_test_split\n",
    "from sklearn.metrics import accuracy_score, confusion_matrix"
   ]
  },
  {
   "cell_type": "markdown",
   "id": "88245cbf",
   "metadata": {},
   "source": [
    "# Regresuin Logistique"
   ]
  },
  {
   "cell_type": "code",
   "execution_count": 82,
   "id": "1254ae33",
   "metadata": {},
   "outputs": [
    {
     "name": "stdout",
     "output_type": "stream",
     "text": [
      "Accuracy: 0.9103448275862069\n",
      "Confusion Matrix:\n",
      " [[56  3]\n",
      " [10 76]]\n"
     ]
    },
    {
     "name": "stderr",
     "output_type": "stream",
     "text": [
      "C:\\Users\\lenovo\\anaconda3\\Lib\\site-packages\\sklearn\\linear_model\\_logistic.py:460: ConvergenceWarning: lbfgs failed to converge (status=1):\n",
      "STOP: TOTAL NO. of ITERATIONS REACHED LIMIT.\n",
      "\n",
      "Increase the number of iterations (max_iter) or scale the data as shown in:\n",
      "    https://scikit-learn.org/stable/modules/preprocessing.html\n",
      "Please also refer to the documentation for alternative solver options:\n",
      "    https://scikit-learn.org/stable/modules/linear_model.html#logistic-regression\n",
      "  n_iter_i = _check_optimize_result(\n"
     ]
    }
   ],
   "source": [
    "from sklearn.linear_model import LogisticRegression\n",
    "\n",
    "# Séparer les variables explicatives (features) et la variable cible (target)\n",
    "X = data_plot.drop('Heart Attack', axis=1)\n",
    "y = data_plot['Heart Attack']\n",
    "\n",
    "# Diviser les données en ensembles d'entraînement et de test\n",
    "X_train, X_test, y_train, y_test = train_test_split(X, y, test_size=0.2, random_state=42)\n",
    "\n",
    "# Créer et entraîner le modèle de régression logistique\n",
    "model = LogisticRegression()\n",
    "model.fit(X_train, y_train)\n",
    "\n",
    "# Faire des prédictions sur l'ensemble de test\n",
    "y_pred = model.predict(X_test)\n",
    "\n",
    "# Calculer la précision du modèle\n",
    "accuracy = accuracy_score(y_test, y_pred)\n",
    "print(\"Accuracy:\", accuracy)\n",
    "\n",
    "# Afficher la matrice de confusion\n",
    "conf_matrix = confusion_matrix(y_test, y_pred)\n",
    "print(\"Confusion Matrix:\\n\", conf_matrix)"
   ]
  },
  {
   "cell_type": "markdown",
   "id": "bf90f0fe",
   "metadata": {},
   "source": [
    "# KNN "
   ]
  },
  {
   "cell_type": "code",
   "execution_count": 45,
   "id": "768d0efc",
   "metadata": {},
   "outputs": [
    {
     "name": "stdout",
     "output_type": "stream",
     "text": [
      "Accuracy: 1.0\n",
      "Confusion Matrix:\n",
      " [[59  0]\n",
      " [ 0 86]]\n"
     ]
    }
   ],
   "source": [
    "from sklearn.neighbors import KNeighborsClassifier\n",
    "\n",
    "\n",
    "\n",
    "# Séparer les variables explicatives (features) et la variable cible (target)\n",
    "X = data_plot.drop('Heart Attack', axis=1)\n",
    "y = data_plot['Heart Attack']\n",
    "\n",
    "# Diviser les données en ensembles d'entraînement et de test\n",
    "X_train, X_test, y_train, y_test = train_test_split(X, y, test_size=0.2, random_state=42)\n",
    "\n",
    "# Créer et entraîner le modèle KNN\n",
    "k = 5  # nombre de voisins à considérer\n",
    "model = KNeighborsClassifier(n_neighbors=k)\n",
    "model.fit(X_train, y_train)\n",
    "\n",
    "# Faire des prédictions sur l'ensemble de test\n",
    "y_pred = model.predict(X_test)\n",
    "\n",
    "# Calculer l'exactitude du modèle\n",
    "accuracy = accuracy_score(y_test, y_pred)\n",
    "print(\"Accuracy:\", accuracy)\n",
    "\n",
    "# Afficher la matrice de confusion\n",
    "conf_matrix = confusion_matrix(y_test, y_pred)\n",
    "print(\"Confusion Matrix:\\n\", conf_matrix)"
   ]
  },
  {
   "cell_type": "markdown",
   "id": "fad5eb66",
   "metadata": {},
   "source": [
    "# SVM\n"
   ]
  },
  {
   "cell_type": "code",
   "execution_count": 46,
   "id": "51266ce7",
   "metadata": {},
   "outputs": [
    {
     "name": "stdout",
     "output_type": "stream",
     "text": [
      "Accuracy: 1.0\n",
      "Confusion Matrix:\n",
      " [[59  0]\n",
      " [ 0 86]]\n"
     ]
    }
   ],
   "source": [
    "import pandas as pd\n",
    "from sklearn.svm import SVC\n",
    "\n",
    "\n",
    "\n",
    "# Séparer les variables explicatives (features) et la variable cible (target)\n",
    "X = data_plot[['Age', 'Gender', 'Cholesterol(mg/dL)', 'Glucose(mg/dL)', 'Smoker', 'Exercise(hours/week)', 'Systolic Pressure', 'Diastolic Pressure', 'BMI']]\n",
    "y = data_plot['Heart Attack']\n",
    "\n",
    "# Diviser les données en ensembles d'entraînement et de test\n",
    "X_train, X_test, y_train, y_test = train_test_split(X, y, test_size=0.2, random_state=42)\n",
    "\n",
    "# Créer et entraîner le modèle SVM\n",
    "model = SVC(kernel='linear')  # vous pouvez également essayer d'autres noyaux comme 'rbf' ou 'poly'\n",
    "model.fit(X_train, y_train)\n",
    "\n",
    "# Faire des prédictions sur l'ensemble de test\n",
    "y_pred = model.predict(X_test)\n",
    "\n",
    "# Calculer l'exactitude du modèle\n",
    "accuracy = accuracy_score(y_test, y_pred)\n",
    "print(\"Accuracy:\", accuracy)\n",
    "\n",
    "# Afficher la matrice de confusion\n",
    "conf_matrix = confusion_matrix(y_test, y_pred)\n",
    "print(\"Confusion Matrix:\\n\", conf_matrix)\n"
   ]
  },
  {
   "cell_type": "code",
   "execution_count": null,
   "id": "8cd95e4a",
   "metadata": {},
   "outputs": [],
   "source": []
  }
 ],
 "metadata": {
  "kernelspec": {
   "display_name": "Python 3 (ipykernel)",
   "language": "python",
   "name": "python3"
  },
  "language_info": {
   "codemirror_mode": {
    "name": "ipython",
    "version": 3
   },
   "file_extension": ".py",
   "mimetype": "text/x-python",
   "name": "python",
   "nbconvert_exporter": "python",
   "pygments_lexer": "ipython3",
   "version": "3.11.5"
  },
  "varInspector": {
   "cols": {
    "lenName": 16,
    "lenType": 16,
    "lenVar": 40
   },
   "kernels_config": {
    "python": {
     "delete_cmd_postfix": "",
     "delete_cmd_prefix": "del ",
     "library": "var_list.py",
     "varRefreshCmd": "print(var_dic_list())"
    },
    "r": {
     "delete_cmd_postfix": ") ",
     "delete_cmd_prefix": "rm(",
     "library": "var_list.r",
     "varRefreshCmd": "cat(var_dic_list()) "
    }
   },
   "types_to_exclude": [
    "module",
    "function",
    "builtin_function_or_method",
    "instance",
    "_Feature"
   ],
   "window_display": false
  }
 },
 "nbformat": 4,
 "nbformat_minor": 5
}
